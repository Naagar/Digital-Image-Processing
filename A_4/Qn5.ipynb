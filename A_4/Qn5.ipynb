{
 "cells": [
  {
   "cell_type": "code",
   "execution_count": 4,
   "metadata": {},
   "outputs": [
    {
     "data": {
      "image/png": "[encoded data removed]",
      "text/plain": [
       "<Figure size 432x288 with 20 Axes>"
      ]
     },
     "metadata": {},
     "output_type": "display_data"
    }
   ],
   "source": [
    "import cv2 as cv\n",
    "import numpy as np\n",
    "from matplotlib import pyplot as plt\n",
    "\n",
    "img = np.empty((100,100,3),dtype = np.uint8)\n",
    "def fill_SI_values(img):\n",
    "    for i in range(100):\n",
    "        for j in range(100):\n",
    "            img[:,:,1] = 255\n",
    "            img[:,:,2] = 255\n",
    "    return img\n",
    "\n",
    "img = fill_SI_values(img)\n",
    "def fill_H_values(img,h_value):\n",
    "    for i in range(100):\n",
    "        for j in range(100):\n",
    "            img[:,:,0] = h_value\n",
    "    return img\n",
    "\n",
    "fig,ax = plt.subplots(2,10)\n",
    "h_value = 60                       # h value for green\n",
    "for i in range(10):\n",
    "    img = fill_H_values(img,h_value)\n",
    "    ax[0][i].imshow(img,'hsv')\n",
    "    ax[0][i].axis('off')\n",
    "    ax[0][i].set_aspect('equal')\n",
    "    rgb_img = cv.cvtColor(img,cv.COLOR_HSV2RGB)\n",
    "    ax[1][i].imshow(rgb_img)\n",
    "    ax[1][i].axis('off')\n",
    "    ax[1][i].set_aspect('equal')\n",
    "    h_value += 6\n",
    "ax[0][0].set_title('HSI Colorspace')\n",
    "ax[1][0].set_title('RGB Colorspace')\n",
    "fig.subplots_adjust(wspace = 0,hspace = 0)\n",
    "plt.show()"
   ]
  },
  {
   "cell_type": "code",
   "execution_count": 5,
   "metadata": {},
   "outputs": [
    {
     "data": {
      "image/png": "[encoded data removed]",
      "text/plain": [
       "<Figure size 432x288 with 20 Axes>"
      ]
     },
     "metadata": {},
     "output_type": "display_data"
    }
   ],
   "source": [
    "import cv2 as cv\n",
    "import numpy as np\n",
    "from matplotlib import pyplot as plt\n",
    "\n",
    "img = np.empty((100,100,3),dtype = np.uint8)\n",
    "def fill_SI_values(img):\n",
    "    for i in range(100):\n",
    "        for j in range(100):\n",
    "            img[:,:,1] = 255\n",
    "            img[:,:,2] = 255\n",
    "    return img\n",
    "\n",
    "img = fill_SI_values(img)\n",
    "def fill_H_values(img,h_value):\n",
    "    for i in range(100):\n",
    "        for j in range(100):\n",
    "            img[:,:,0] = h_value\n",
    "    return img\n",
    "\n",
    "fig,ax = plt.subplots(2,10)\n",
    "h_value = 60                   # h value for green\n",
    "for i in range(10):\n",
    "    img = fill_H_values(img,h_value)\n",
    "    ax[0][i].imshow(img,'hsv')\n",
    "    ax[0][i].axis('off')\n",
    "    ax[0][i].set_aspect('equal')\n",
    "    rgb_img = cv.cvtColor(img,cv.COLOR_HSV2RGB)\n",
    "    lab_img = cv.cvtColor(rgb_img,cv.COLOR_RGB2LAB)\n",
    "    ax[1][i].imshow(lab_img)\n",
    "    ax[1][i].axis('off')\n",
    "    ax[1][i].set_aspect('equal')\n",
    "    h_value += 6\n",
    "ax[0][0].set_title('HSI Colorspace')\n",
    "ax[1][0].set_title('L*a*b Colorspace')\n",
    "fig.subplots_adjust(wspace = 0,hspace = 0)\n",
    "plt.show()"
   ]
  },
  {
   "cell_type": "code",
   "execution_count": null,
   "metadata": {},
   "outputs": [],
   "source": []
  }
 ],
 "metadata": {
  "kernelspec": {
   "display_name": "Python 3",
   "language": "python",
   "name": "python3"
  },
  "language_info": {
   "codemirror_mode": {
    "name": "ipython",
    "version": 3
   },
   "file_extension": ".py",
   "mimetype": "text/x-python",
   "name": "python",
   "nbconvert_exporter": "python",
   "pygments_lexer": "ipython3",
   "version": "3.6.6"
  }
 },
 "nbformat": 4,
 "nbformat_minor": 2
}
