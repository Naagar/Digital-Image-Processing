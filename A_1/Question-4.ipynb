{
 "cells": [
  {
   "cell_type": "markdown",
   "metadata": {},
   "source": [
    "# Qn-4"
   ]
  },
  {
   "cell_type": "code",
   "execution_count": 6,
   "metadata": {},
   "outputs": [
    {
     "data": {
      "image/png": "[encoded data removed]",
      "text/plain": [
       "<Figure size 432x288 with 1 Axes>"
      ]
     },
     "metadata": {},
     "output_type": "display_data"
    }
   ],
   "source": [
    "import numpy as np, cv2 as cv\n",
    "from matplotlib import pyplot as plt\n",
    "# read the image \n",
    "img = cv.imread(\"img1.jpg\")\n",
    "bins1 = np.zeros(256, np.int32)\n",
    "# Nested Loop to finding the intensity of every pixle\n",
    "for i in range(0, img.shape[0]):\n",
    "    for j in range(0, img.shape[1]):\n",
    "\n",
    "        intensity = 0\n",
    "        for k in range(0, len(img[i][j])):\n",
    "            intensity += img[i][j][k]\n",
    "\n",
    "        bins1[intensity/3] += 1\n",
    "bins = range(256)\n",
    "# draw th Histogram\n",
    "plt.hist(bins1, bins)\n",
    "plt.title(\"Histogram\")\n",
    "plt.show()"
   ]
  },
  {
   "cell_type": "markdown",
   "metadata": {},
   "source": [
    "# pixel 16x16"
   ]
  },
  {
   "cell_type": "code",
   "execution_count": 1,
   "metadata": {},
   "outputs": [
    {
     "data": {
      "image/png": "[encoded data removed]",
      "text/plain": [
       "<Figure size 432x288 with 1 Axes>"
      ]
     },
     "metadata": {},
     "output_type": "display_data"
    }
   ],
   "source": [
    "import numpy as np, cv2 as cv\n",
    "from matplotlib import pyplot as plt\n",
    "# read the image \n",
    "img = cv.imread(\"16lena.bmp\")\n",
    "bins1 = np.zeros(256, np.int32)\n",
    "# Nested Loop to finding the intensity of every pixle\n",
    "for i in range(0, img.shape[0]):\n",
    "    for j in range(0, img.shape[1]):\n",
    "\n",
    "        intensity = 0\n",
    "        for k in range(0, len(img[i][j])):\n",
    "            intensity += img[i][j][k]\n",
    "\n",
    "        bins1[intensity/3] += 1\n",
    "bins = range(256)\n",
    "# draw th Histogram\n",
    "plt.hist(bins1, bins)\n",
    "plt.title(\"Histogram\")\n",
    "plt.show()"
   ]
  },
  {
   "cell_type": "markdown",
   "metadata": {},
   "source": [
    "# pixel 32x32"
   ]
  },
  {
   "cell_type": "code",
   "execution_count": 3,
   "metadata": {},
   "outputs": [
    {
     "data": {
      "image/png": "[encoded data removed]",
      "text/plain": [
       "<Figure size 432x288 with 1 Axes>"
      ]
     },
     "metadata": {},
     "output_type": "display_data"
    }
   ],
   "source": [
    "import numpy as np, cv2 as cv\n",
    "from matplotlib import pyplot as plt\n",
    "# read the image \n",
    "img = cv.imread(\"32.bmp\")\n",
    "bins1 = np.zeros(256, np.int32)\n",
    "# Nested Loop to finding the intensity of every pixle\n",
    "for i in range(0, img.shape[0]):\n",
    "    for j in range(0, img.shape[1]):\n",
    "\n",
    "        intensity = 0\n",
    "        for k in range(0, len(img[i][j])):\n",
    "            intensity += img[i][j][k]\n",
    "\n",
    "        bins1[intensity/3] += 1\n",
    "bins = range(256)\n",
    "# draw th Histogram\n",
    "plt.hist(bins1, bins)\n",
    "plt.title(\"Histogram\")\n",
    "plt.show()"
   ]
  },
  {
   "cell_type": "markdown",
   "metadata": {},
   "source": [
    "# pixel 64x64"
   ]
  },
  {
   "cell_type": "code",
   "execution_count": 7,
   "metadata": {},
   "outputs": [
    {
     "data": {
      "image/png": "[encoded data removed]",
      "text/plain": [
       "<Figure size 432x288 with 1 Axes>"
      ]
     },
     "metadata": {},
     "output_type": "display_data"
    }
   ],
   "source": [
    "import numpy as np, cv2 as cv\n",
    "from matplotlib import pyplot as plt\n",
    "# read the image \n",
    "img = cv.imread(\"64lena.bmp\")\n",
    "bins1 = np.zeros(256, np.int32)\n",
    "# Nested Loop to finding the intensity of every pixle\n",
    "for i in range(0, img.shape[0]):\n",
    "    for j in range(0, img.shape[1]):\n",
    "\n",
    "        intensity = 0\n",
    "        for k in range(0, len(img[i][j])):\n",
    "            intensity += img[i][j][k]\n",
    "\n",
    "        bins1[intensity/3] += 1\n",
    "bins = range(256)\n",
    "# draw th Histogram\n",
    "plt.hist(bins1, bins)\n",
    "plt.title(\"Histogram\")\n",
    "plt.show()"
   ]
  },
  {
   "cell_type": "markdown",
   "metadata": {},
   "source": [
    "# pixel 128x128"
   ]
  },
  {
   "cell_type": "code",
   "execution_count": 4,
   "metadata": {},
   "outputs": [
    {
     "data": {
      "image/png": "[encoded data removed]",
      "text/plain": [
       "<Figure size 432x288 with 1 Axes>"
      ]
     },
     "metadata": {},
     "output_type": "display_data"
    }
   ],
   "source": [
    "import numpy as np, cv2 as cv\n",
    "from matplotlib import pyplot as plt\n",
    "# read the image \n",
    "img = cv.imread(\"128lena.bmp\")\n",
    "bins1 = np.zeros(256, np.int32)\n",
    "# Nested Loop to finding the intensity of every pixle\n",
    "for i in range(0, img.shape[0]):\n",
    "    for j in range(0, img.shape[1]):\n",
    "\n",
    "        intensity = 0\n",
    "        for k in range(0, len(img[i][j])):\n",
    "            intensity += img[i][j][k]\n",
    "\n",
    "        bins1[intensity/3] += 1\n",
    "bins = range(256)\n",
    "# draw th Histogram\n",
    "plt.hist(bins1, bins)\n",
    "plt.title(\"Histogram\")\n",
    "plt.show()"
   ]
  },
  {
   "cell_type": "markdown",
   "metadata": {},
   "source": [
    "# pixel 256x256"
   ]
  },
  {
   "cell_type": "code",
   "execution_count": 5,
   "metadata": {},
   "outputs": [
    {
     "data": {
      "image/png": "[encoded data removed]",
      "text/plain": [
       "<Figure size 432x288 with 1 Axes>"
      ]
     },
     "metadata": {},
     "output_type": "display_data"
    }
   ],
   "source": [
    "import numpy as np, cv2 as cv\n",
    "from matplotlib import pyplot as plt\n",
    "# read the image \n",
    "img = cv.imread(\"256lena.bmp\")\n",
    "bins1 = np.zeros(256, np.int32)\n",
    "# Nested Loop to finding the intensity of every pixle\n",
    "for i in range(0, img.shape[0]):\n",
    "    for j in range(0, img.shape[1]):\n",
    "\n",
    "        intensity = 0\n",
    "        for k in range(0, len(img[i][j])):\n",
    "            intensity += img[i][j][k]\n",
    "\n",
    "        bins1[intensity/3] += 1\n",
    "bins = range(256)\n",
    "# draw th Histogram\n",
    "plt.hist(bins1, bins)\n",
    "plt.title(\"Histogram\")\n",
    "plt.show()"
   ]
  },
  {
   "cell_type": "code",
   "execution_count": null,
   "metadata": {
    "collapsed": true
   },
   "outputs": [],
   "source": []
  }
 ],
 "metadata": {
  "kernelspec": {
   "display_name": "Python 2",
   "language": "python",
   "name": "python2"
  },
  "language_info": {
   "codemirror_mode": {
    "name": "ipython",
    "version": 2
   },
   "file_extension": ".py",
   "mimetype": "text/x-python",
   "name": "python",
   "nbconvert_exporter": "python",
   "pygments_lexer": "ipython2",
   "version": "2.7.15"
  }
 },
 "nbformat": 4,
 "nbformat_minor": 2
}
