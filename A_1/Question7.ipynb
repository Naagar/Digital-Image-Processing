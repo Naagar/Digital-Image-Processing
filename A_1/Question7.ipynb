{
 "cells": [
  {
   "cell_type": "markdown",
   "metadata": {},
   "source": [
    "# Question 7\n",
    "## Contras streaching algo\n",
    "## The algorithm:\n",
    "\n",
    "    Read RGB image\n",
    "    Extract green channel (it suggests there is much info in green channel)\n",
    "    Use log transform for contrast stretching\n",
    "    Do global thresholding\n",
    "    Do morphological closing or opening (try which one gets good result)\n",
    "    overlay mask over green channel\n",
    "    done"
   ]
  },
  {
   "cell_type": "markdown",
   "metadata": {},
   "source": [
    "## LowContrast 1"
   ]
  },
  {
   "cell_type": "code",
   "execution_count": 2,
   "metadata": {},
   "outputs": [
    {
     "data": {
      "image/png": "[encoded data removed]",
      "text/plain": [
       "<Figure size 432x288 with 1 Axes>"
      ]
     },
     "metadata": {},
     "output_type": "display_data"
    }
   ],
   "source": [
    "import numpy as np, cv2 as cv\n",
    "from matplotlib import pyplot as plt\n",
    "# rerad image\n",
    "img = cv.imread(\"low1.jpeg\")\n",
    "bins1 = np.zeros(256, np.int32)\n",
    "# loop to find the pixels intensity \n",
    "for i in range(0, img.shape[0]):\n",
    "    for j in range(0, img.shape[1]):\n",
    "\n",
    "        intensity = 0\n",
    "        for k in range(0, len(img[i][j])):\n",
    "            intensity += img[i][j][k]\n",
    "\n",
    "        bins1[intensity/3] += 1\n",
    "bins = range(256)\n",
    "plt.hist(bins1, bins)\n",
    "plt.title(\"LowCont1\")\n",
    "plt.show()"
   ]
  },
  {
   "cell_type": "markdown",
   "metadata": {},
   "source": [
    "## LowContrast 2"
   ]
  },
  {
   "cell_type": "code",
   "execution_count": 3,
   "metadata": {},
   "outputs": [
    {
     "data": {
      "image/png": "[encoded data removed]",
      "text/plain": [
       "<Figure size 432x288 with 1 Axes>"
      ]
     },
     "metadata": {},
     "output_type": "display_data"
    }
   ],
   "source": [
    "import numpy as np, cv2 as cv\n",
    "from matplotlib import pyplot as plt\n",
    "# rerad image\n",
    "img = cv.imread(\"low2.jpg\")\n",
    "bins1 = np.zeros(256, np.int32)\n",
    "# loop to find the pixels intensity \n",
    "for i in range(0, img.shape[0]):\n",
    "    for j in range(0, img.shape[1]):\n",
    "\n",
    "        intensity = 0\n",
    "        for k in range(0, len(img[i][j])):\n",
    "            intensity += img[i][j][k]\n",
    "\n",
    "        bins1[intensity/3] += 1\n",
    "bins = range(256)\n",
    "plt.hist(bins1, bins)\n",
    "plt.title(\"LowCont2\")\n",
    "plt.show()"
   ]
  },
  {
   "cell_type": "markdown",
   "metadata": {},
   "source": [
    "## LowContrast 3"
   ]
  },
  {
   "cell_type": "code",
   "execution_count": 4,
   "metadata": {},
   "outputs": [
    {
     "data": {
      "image/png": "[encoded data removed]",
      "text/plain": [
       "<Figure size 432x288 with 1 Axes>"
      ]
     },
     "metadata": {},
     "output_type": "display_data"
    }
   ],
   "source": [
    "import numpy as np, cv2 as cv\n",
    "from matplotlib import pyplot as plt\n",
    "# rerad image\n",
    "img = cv.imread(\"low3.png\")\n",
    "bins1 = np.zeros(256, np.int32)\n",
    "# loop to find the pixels intensity \n",
    "for i in range(0, img.shape[0]):\n",
    "    for j in range(0, img.shape[1]):\n",
    "\n",
    "        intensity = 0\n",
    "        for k in range(0, len(img[i][j])):\n",
    "            intensity += img[i][j][k]\n",
    "\n",
    "        bins1[intensity/3] += 1\n",
    "bins = range(256)\n",
    "plt.hist(bins1, bins)\n",
    "plt.title(\"LowCont3\")\n",
    "plt.show()"
   ]
  },
  {
   "cell_type": "markdown",
   "metadata": {},
   "source": [
    "## highContrast 1"
   ]
  },
  {
   "cell_type": "code",
   "execution_count": 5,
   "metadata": {},
   "outputs": [
    {
     "data": {
      "image/png": "[encoded data removed]",
      "text/plain": [
       "<Figure size 432x288 with 1 Axes>"
      ]
     },
     "metadata": {},
     "output_type": "display_data"
    }
   ],
   "source": [
    "import numpy as np, cv2 as cv\n",
    "from matplotlib import pyplot as plt\n",
    "# rerad image\n",
    "img = cv.imread(\"high1.jpg\")\n",
    "bins1 = np.zeros(256, np.int32)\n",
    "# loop to find the pixels intensity \n",
    "for i in range(0, img.shape[0]):\n",
    "    for j in range(0, img.shape[1]):\n",
    "\n",
    "        intensity = 0\n",
    "        for k in range(0, len(img[i][j])):\n",
    "            intensity += img[i][j][k]\n",
    "\n",
    "        bins1[intensity/3] += 1\n",
    "bins = range(256)\n",
    "plt.hist(bins1, bins)\n",
    "plt.title(\"HighCont1\")\n",
    "plt.show()"
   ]
  },
  {
   "cell_type": "markdown",
   "metadata": {},
   "source": [
    "## highContrast 2"
   ]
  },
  {
   "cell_type": "code",
   "execution_count": 2,
   "metadata": {},
   "outputs": [
    {
     "data": {
      "image/png": "[encoded data removed]",
      "text/plain": [
       "<Figure size 432x288 with 1 Axes>"
      ]
     },
     "metadata": {},
     "output_type": "display_data"
    }
   ],
   "source": [
    "import numpy as np, cv2 as cv\n",
    "from matplotlib import pyplot as plt\n",
    "# rerad image\n",
    "img = cv.imread(\"high2.png\")\n",
    "bins1 = np.zeros(256, np.int32)\n",
    "# loop to find the pixels intensity \n",
    "for i in range(0, img.shape[0]):\n",
    "    for j in range(0, img.shape[1]):\n",
    "\n",
    "        intensity = 0\n",
    "        for k in range(0, len(img[i][j])):\n",
    "            intensity += img[i][j][k]\n",
    "\n",
    "        bins1[intensity/3] += 1\n",
    "bins = range(256)\n",
    "plt.hist(bins1, bins)\n",
    "plt.title(\"HighCont2\")\n",
    "plt.show()"
   ]
  },
  {
   "cell_type": "markdown",
   "metadata": {},
   "source": [
    "## highContrast 3"
   ]
  },
  {
   "cell_type": "code",
   "execution_count": 7,
   "metadata": {},
   "outputs": [
    {
     "data": {
      "image/png": "[encoded data removed]",
      "text/plain": [
       "<Figure size 432x288 with 1 Axes>"
      ]
     },
     "metadata": {},
     "output_type": "display_data"
    }
   ],
   "source": [
    "import numpy as np, cv2 as cv\n",
    "from matplotlib import pyplot as plt\n",
    "# rerad image\n",
    "img = cv.imread(\"high3.jpeg\")\n",
    "bins1 = np.zeros(256, np.int32)\n",
    "# loop to find the pixels intensity \n",
    "for i in range(0, img.shape[0]):\n",
    "    for j in range(0, img.shape[1]):\n",
    "\n",
    "        intensity = 0\n",
    "        for k in range(0, len(img[i][j])):\n",
    "            intensity += img[i][j][k]\n",
    "\n",
    "        bins1[intensity/3] += 1\n",
    "bins = range(256)\n",
    "plt.hist(bins1, bins)\n",
    "plt.title(\"HighCont3\")\n",
    "plt.show()"
   ]
  },
  {
   "cell_type": "code",
   "execution_count": null,
   "metadata": {
    "collapsed": true
   },
   "outputs": [],
   "source": []
  }
 ],
 "metadata": {
  "kernelspec": {
   "display_name": "Python 2",
   "language": "python",
   "name": "python2"
  },
  "language_info": {
   "codemirror_mode": {
    "name": "ipython",
    "version": 2
   },
   "file_extension": ".py",
   "mimetype": "text/x-python",
   "name": "python",
   "nbconvert_exporter": "python",
   "pygments_lexer": "ipython2",
   "version": "2.7.15"
  }
 },
 "nbformat": 4,
 "nbformat_minor": 2
}
