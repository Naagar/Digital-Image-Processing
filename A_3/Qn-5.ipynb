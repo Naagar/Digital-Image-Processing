{
 "cells": [
  {
   "cell_type": "markdown",
   "metadata": {},
   "source": [
    "# Spatial Sempling "
   ]
  },
  {
   "cell_type": "code",
   "execution_count": 75,
   "metadata": {},
   "outputs": [
    {
     "name": "stdout",
     "output_type": "stream",
     "text": [
      "Higest sampling frequency for 128x128 Nx and Ny [ 0.  0.]\n",
      "Higest sampling frequency for 64x64 Nx,Ny [ 0.  0.]\n"
     ]
    },
    {
     "data": {
      "image/png": "[encoded data removed]",
      "text/plain": [
       "<Figure size 432x288 with 2 Axes>"
      ]
     },
     "metadata": {},
     "output_type": "display_data"
    },
    {
     "data": {
      "image/png": "[encoded data removed]",
      "text/plain": [
       "<Figure size 432x288 with 1 Axes>"
      ]
     },
     "metadata": {},
     "output_type": "display_data"
    }
   ],
   "source": [
    "import cv2\n",
    "import numpy as np\n",
    "from matplotlib import pyplot as plt\n",
    "\n",
    "img = cv2.imread('checkerboard6qi.png',0)\n",
    "dim = img.shape\n",
    "h =  int((dim[0]+1)/2)\n",
    "w = int((dim[1]+1)/2)\n",
    "#print(h,w)\n",
    "\n",
    "\n",
    " \n",
    "small = cv2.resize(img, (0,0), fx=0.5, fy=0.5)\n",
    "#print(small)\n",
    "\n",
    "  # taking FFT\n",
    "    \n",
    "dft = cv2.dft(np.float32(small),flags = cv2.DFT_COMPLEX_OUTPUT) # taking FFT\n",
    "dft_shift = np.fft.fftshift(dft)\n",
    "#print(dft_shift)\n",
    "\n",
    "dim2 = small.shape\n",
    "x = int(dim[0]/2)-1\n",
    "y = int(dim[1]/2)-1 \n",
    "#print(x,y)\n",
    "Nxy = dft_shift[x][y]/2\n",
    "print(\"Higest sampling frequency for 128x128 Nx and Ny\",Nx)\n",
    "\n",
    "\n",
    "small_more = cv2.resize(small, (0,0), fx=0.5, fy=0.5)\n",
    "dim2 = small_more.shape\n",
    "x = int(dim[0]/2)-1\n",
    "y = int(dim[1]/2)-1 \n",
    "#print(x,y)\n",
    "Nx = dft_shift[x][y]/2   # By Nequsit Theorem\n",
    "print(\"Higest sampling frequency for 64x64 Nx,Ny\",Nx)\n",
    "\n",
    "\n",
    "\n",
    "plt.subplot(121),plt.imshow(img, cmap = 'gray')\n",
    "plt.title('Input Image 256x256'), plt.xticks([]), plt.yticks([])\n",
    "plt.subplot(122),plt.imshow(small, cmap = 'gray')\n",
    "plt.title('Resize 128x128'), plt.xticks([]), plt.yticks([])\n",
    "plt.show()\n",
    "plt.subplot(122),plt.imshow(small_more, cmap = 'gray')\n",
    "plt.title('Again Resize 64x64 '), plt.xticks([]), plt.yticks([])\n",
    "plt.show()"
   ]
  },
  {
   "cell_type": "markdown",
   "metadata": {},
   "source": [
    "# Resulting FFT Spectrum"
   ]
  },
  {
   "cell_type": "code",
   "execution_count": 83,
   "metadata": {},
   "outputs": [
    {
     "name": "stderr",
     "output_type": "stream",
     "text": [
      "c:\\users\\naagar\\anaconda3\\envs\\opencv-env\\lib\\site-packages\\ipykernel_launcher.py:20: RuntimeWarning: divide by zero encountered in log\n",
      "c:\\users\\naagar\\anaconda3\\envs\\opencv-env\\lib\\site-packages\\ipykernel_launcher.py:26: RuntimeWarning: divide by zero encountered in log\n"
     ]
    },
    {
     "data": {
      "image/png": "[encoded data removed]",
      "text/plain": [
       "<Figure size 432x288 with 2 Axes>"
      ]
     },
     "metadata": {},
     "output_type": "display_data"
    }
   ],
   "source": [
    "\n",
    "\n",
    "\n",
    "import cv2\n",
    "import numpy as np\n",
    "from matplotlib import pyplot as plt\n",
    "\n",
    "img = cv2.imread('checkerboard6qi.png',0)\n",
    "dim = img.shape\n",
    "h =  int((dim[0]+1)/2)\n",
    "w = int((dim[1]+1)/2)\n",
    "#print(h,w)\n",
    "\n",
    "\n",
    " \n",
    "small = cv2.resize(img, (0,0), fx=0.5, fy=0.5)\n",
    "#print(small)\n",
    "f1 = np.fft.fft2(small) #fast fourier transformation\n",
    "fshift_1 = np.fft.fftshift(f1) # shifting to center\n",
    "final_1 = 20*np.log(np.abs(fshift_1)) # log scaled \n",
    " \n",
    "    # \n",
    "small_more = cv2.resize(small, (0,0), fx=0.5, fy=0.5)\n",
    "f2 = np.fft.fft2(small_more) #fast fourier transformation\n",
    "fshift_2 = np.fft.fftshift(f2) # shifting to center\n",
    "final_2 = 20*np.log(np.abs(fshift_2)) # log scaled \n",
    "\n",
    "\n",
    "\n",
    "plt.subplot(121),plt.imshow(final_1, cmap = 'gray')\n",
    "plt.title('Spectrum fo 128x128'), plt.xticks([]), plt.yticks([])\n",
    "plt.subplot(122),plt.imshow(final_2, cmap = 'gray')\n",
    "plt.title('Spectrum fo 64x64'), plt.xticks([]), plt.yticks([])\n",
    "plt.show()\n"
   ]
  },
  {
   "cell_type": "code",
   "execution_count": null,
   "metadata": {},
   "outputs": [],
   "source": []
  }
 ],
 "metadata": {
  "kernelspec": {
   "display_name": "Python 3",
   "language": "python",
   "name": "python3"
  },
  "language_info": {
   "codemirror_mode": {
    "name": "ipython",
    "version": 3
   },
   "file_extension": ".py",
   "mimetype": "text/x-python",
   "name": "python",
   "nbconvert_exporter": "python",
   "pygments_lexer": "ipython3",
   "version": "3.6.6"
  }
 },
 "nbformat": 4,
 "nbformat_minor": 2
}
