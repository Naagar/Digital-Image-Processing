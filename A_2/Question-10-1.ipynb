{
 "cells": [
  {
   "cell_type": "markdown",
   "metadata": {},
   "source": [
    "## Bilateral Filter\n"
   ]
  },
  {
   "cell_type": "code",
   "execution_count": 1,
   "metadata": {},
   "outputs": [
    {
     "ename": "AttributeError",
     "evalue": "'NoneType' object has no attribute 'shape'",
     "output_type": "error",
     "traceback": [
      "\u001b[1;31m---------------------------------------------------------------------------\u001b[0m",
      "\u001b[1;31mAttributeError\u001b[0m                            Traceback (most recent call last)",
      "\u001b[1;32m<ipython-input-1-3e8572376861>\u001b[0m in \u001b[0;36m<module>\u001b[1;34m()\u001b[0m\n\u001b[0;32m     57\u001b[0m     \u001b[0mcv2\u001b[0m\u001b[1;33m.\u001b[0m\u001b[0mimwrite\u001b[0m\u001b[1;33m(\u001b[0m\u001b[1;34m\"original_image_grayscale.png\"\u001b[0m\u001b[1;33m,\u001b[0m \u001b[0msrc\u001b[0m\u001b[1;33m)\u001b[0m\u001b[1;33m\u001b[0m\u001b[0m\n\u001b[0;32m     58\u001b[0m     \u001b[0mcv2\u001b[0m\u001b[1;33m.\u001b[0m\u001b[0mimwrite\u001b[0m\u001b[1;33m(\u001b[0m\u001b[1;34m\"filtered_image_OpenCV.png\"\u001b[0m\u001b[1;33m,\u001b[0m \u001b[0mfiltered_image_OpenCV\u001b[0m\u001b[1;33m)\u001b[0m\u001b[1;33m\u001b[0m\u001b[0m\n\u001b[1;32m---> 59\u001b[1;33m     \u001b[0mfiltered_image_own\u001b[0m \u001b[1;33m=\u001b[0m \u001b[0mbilateral_filter_own\u001b[0m\u001b[1;33m(\u001b[0m\u001b[0msrc\u001b[0m\u001b[1;33m,\u001b[0m \u001b[1;36m5\u001b[0m\u001b[1;33m,\u001b[0m \u001b[1;36m12.0\u001b[0m\u001b[1;33m,\u001b[0m \u001b[1;36m16.0\u001b[0m\u001b[1;33m)\u001b[0m\u001b[1;33m\u001b[0m\u001b[0m\n\u001b[0m\u001b[0;32m     60\u001b[0m     \u001b[0mcv2\u001b[0m\u001b[1;33m.\u001b[0m\u001b[0mimwrite\u001b[0m\u001b[1;33m(\u001b[0m\u001b[1;34m\"filtered_image_own.png\"\u001b[0m\u001b[1;33m,\u001b[0m \u001b[0mfiltered_image_own\u001b[0m\u001b[1;33m)\u001b[0m\u001b[1;33m\u001b[0m\u001b[0m\n",
      "\u001b[1;32m<ipython-input-1-3e8572376861>\u001b[0m in \u001b[0;36mbilateral_filter_own\u001b[1;34m(source, filter_diameter, sigma_i, sigma_s)\u001b[0m\n\u001b[0;32m     39\u001b[0m \u001b[1;33m\u001b[0m\u001b[0m\n\u001b[0;32m     40\u001b[0m \u001b[1;32mdef\u001b[0m \u001b[0mbilateral_filter_own\u001b[0m\u001b[1;33m(\u001b[0m\u001b[0msource\u001b[0m\u001b[1;33m,\u001b[0m \u001b[0mfilter_diameter\u001b[0m\u001b[1;33m,\u001b[0m \u001b[0msigma_i\u001b[0m\u001b[1;33m,\u001b[0m \u001b[0msigma_s\u001b[0m\u001b[1;33m)\u001b[0m\u001b[1;33m:\u001b[0m\u001b[1;33m\u001b[0m\u001b[0m\n\u001b[1;32m---> 41\u001b[1;33m     \u001b[0mfiltered_image\u001b[0m \u001b[1;33m=\u001b[0m \u001b[0mnp\u001b[0m\u001b[1;33m.\u001b[0m\u001b[0mzeros\u001b[0m\u001b[1;33m(\u001b[0m\u001b[0msource\u001b[0m\u001b[1;33m.\u001b[0m\u001b[0mshape\u001b[0m\u001b[1;33m)\u001b[0m\u001b[1;33m\u001b[0m\u001b[0m\n\u001b[0m\u001b[0;32m     42\u001b[0m \u001b[1;33m\u001b[0m\u001b[0m\n\u001b[0;32m     43\u001b[0m     \u001b[0mi\u001b[0m \u001b[1;33m=\u001b[0m \u001b[1;36m0\u001b[0m\u001b[1;33m\u001b[0m\u001b[0m\n",
      "\u001b[1;31mAttributeError\u001b[0m: 'NoneType' object has no attribute 'shape'"
     ]
    }
   ],
   "source": [
    "import numpy as np\n",
    "import cv2\n",
    "import sys\n",
    "import math\n",
    "\n",
    "\n",
    "def distance(x, y, i, j):\n",
    "    return np.sqrt((x-i)**2 + (y-j)**2)\n",
    "\n",
    "\n",
    "def gaussian(x, sigma):\n",
    "    return (1.0 / (2 * math.pi * (sigma ** 2))) * math.exp(- (x ** 2) / (2 * sigma ** 2))\n",
    "\n",
    "\n",
    "def apply_bilateral_filter(source, filtered_image, x, y, diameter, sigma_i, sigma_s):\n",
    "    hl = diameter/2\n",
    "    i_filtered = 0\n",
    "    Wp = 0\n",
    "    i = 0\n",
    "    while i < diameter:\n",
    "        j = 0\n",
    "        while j < diameter:\n",
    "            neighbour_x = x - (hl - i)\n",
    "            neighbour_y = y - (hl - j)\n",
    "            if neighbour_x >= len(source):\n",
    "                neighbour_x -= len(source)\n",
    "            if neighbour_y >= len(source[0]):\n",
    "                neighbour_y -= len(source[0])\n",
    "            gi = gaussian(source[neighbour_x][neighbour_y] - source[x][y], sigma_i)\n",
    "            gs = gaussian(distance(neighbour_x, neighbour_y, x, y), sigma_s)\n",
    "            w = gi * gs\n",
    "            i_filtered += source[neighbour_x][neighbour_y] * w\n",
    "            Wp += w\n",
    "            j += 1\n",
    "        i += 1\n",
    "    i_filtered = i_filtered / Wp\n",
    "    filtered_image[x][y] = int(round(i_filtered))\n",
    "\n",
    "\n",
    "def bilateral_filter_own(source, filter_diameter, sigma_i, sigma_s):\n",
    "    filtered_image = np.zeros(source.shape)\n",
    "\n",
    "    i = 0\n",
    "    while i < len(source):\n",
    "        j = 0\n",
    "        while j < len(source[0]):\n",
    "            apply_bilateral_filter(source, filtered_image, i, j, filter_diameter, sigma_i, sigma_s)\n",
    "            j += 1\n",
    "        i += 1\n",
    "    return filtered_image\n",
    "\n",
    "\n",
    "if __name__ == \"__main__\":\n",
    "   ## src = cv2.imread(str(sys.argv[1]), 0)\n",
    "    src = cv2.imread('/home/user/DIP/face.jpg', 0)\n",
    "    filtered_image_OpenCV = cv2.bilateralFilter(src, 5, 12.0, 16.0)\n",
    "    cv2.imwrite(\"original_image_grayscale.png\", src)\n",
    "    cv2.imwrite(\"filtered_image_OpenCV.png\", filtered_image_OpenCV)\n",
    "    filtered_image_own = bilateral_filter_own(src, 5, 12.0, 16.0)\n",
    "    cv2.imwrite(\"filtered_image_own.png\", filtered_image_own)\n"
   ]
  },
  {
   "cell_type": "code",
   "execution_count": null,
   "metadata": {
    "collapsed": true
   },
   "outputs": [],
   "source": []
  }
 ],
 "metadata": {
  "kernelspec": {
   "display_name": "Python 3",
   "language": "python",
   "name": "python3"
  },
  "language_info": {
   "codemirror_mode": {
    "name": "ipython",
    "version": 3
   },
   "file_extension": ".py",
   "mimetype": "text/x-python",
   "name": "python",
   "nbconvert_exporter": "python",
   "pygments_lexer": "ipython3",
   "version": "3.6.6"
  }
 },
 "nbformat": 4,
 "nbformat_minor": 2
}
